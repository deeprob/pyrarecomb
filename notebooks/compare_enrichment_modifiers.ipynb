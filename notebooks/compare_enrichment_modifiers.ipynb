{
 "cells": [
  {
   "cell_type": "markdown",
   "metadata": {},
   "source": [
    "# Install pyrarecomb"
   ]
  },
  {
   "cell_type": "code",
   "execution_count": 1,
   "metadata": {},
   "outputs": [
    {
     "name": "stdout",
     "output_type": "stream",
     "text": [
      "Requirement already satisfied: pyrarecomb in /data6/deepro/miniconda3/envs/pyrarecombtest/lib/python3.11/site-packages (0.0.3)\n",
      "Requirement already satisfied: mlxtend in /data6/deepro/miniconda3/envs/pyrarecombtest/lib/python3.11/site-packages (from pyrarecomb) (0.22.0)\n",
      "Requirement already satisfied: pandas in /data6/deepro/miniconda3/envs/pyrarecombtest/lib/python3.11/site-packages (from pyrarecomb) (2.0.3)\n",
      "Requirement already satisfied: statsmodels in /data6/deepro/miniconda3/envs/pyrarecombtest/lib/python3.11/site-packages (from pyrarecomb) (0.14.0)\n",
      "Requirement already satisfied: scipy>=1.2.1 in /data6/deepro/miniconda3/envs/pyrarecombtest/lib/python3.11/site-packages (from mlxtend->pyrarecomb) (1.11.1)\n",
      "Requirement already satisfied: numpy>=1.16.2 in /data6/deepro/miniconda3/envs/pyrarecombtest/lib/python3.11/site-packages (from mlxtend->pyrarecomb) (1.25.0)\n",
      "Requirement already satisfied: scikit-learn>=1.0.2 in /data6/deepro/miniconda3/envs/pyrarecombtest/lib/python3.11/site-packages (from mlxtend->pyrarecomb) (1.3.0)\n",
      "Requirement already satisfied: matplotlib>=3.0.0 in /data6/deepro/miniconda3/envs/pyrarecombtest/lib/python3.11/site-packages (from mlxtend->pyrarecomb) (3.7.2)\n",
      "Requirement already satisfied: joblib>=0.13.2 in /data6/deepro/miniconda3/envs/pyrarecombtest/lib/python3.11/site-packages (from mlxtend->pyrarecomb) (1.3.1)\n",
      "Requirement already satisfied: setuptools in /data6/deepro/miniconda3/envs/pyrarecombtest/lib/python3.11/site-packages (from mlxtend->pyrarecomb) (68.0.0)\n",
      "Requirement already satisfied: python-dateutil>=2.8.2 in /data6/deepro/miniconda3/envs/pyrarecombtest/lib/python3.11/site-packages (from pandas->pyrarecomb) (2.8.2)\n",
      "Requirement already satisfied: pytz>=2020.1 in /data6/deepro/miniconda3/envs/pyrarecombtest/lib/python3.11/site-packages (from pandas->pyrarecomb) (2023.3)\n",
      "Requirement already satisfied: tzdata>=2022.1 in /data6/deepro/miniconda3/envs/pyrarecombtest/lib/python3.11/site-packages (from pandas->pyrarecomb) (2023.3)\n",
      "Requirement already satisfied: patsy>=0.5.2 in /data6/deepro/miniconda3/envs/pyrarecombtest/lib/python3.11/site-packages (from statsmodels->pyrarecomb) (0.5.3)\n",
      "Requirement already satisfied: packaging>=21.3 in /data6/deepro/miniconda3/envs/pyrarecombtest/lib/python3.11/site-packages (from statsmodels->pyrarecomb) (23.1)\n",
      "Requirement already satisfied: contourpy>=1.0.1 in /data6/deepro/miniconda3/envs/pyrarecombtest/lib/python3.11/site-packages (from matplotlib>=3.0.0->mlxtend->pyrarecomb) (1.1.0)\n",
      "Requirement already satisfied: cycler>=0.10 in /data6/deepro/miniconda3/envs/pyrarecombtest/lib/python3.11/site-packages (from matplotlib>=3.0.0->mlxtend->pyrarecomb) (0.11.0)\n",
      "Requirement already satisfied: fonttools>=4.22.0 in /data6/deepro/miniconda3/envs/pyrarecombtest/lib/python3.11/site-packages (from matplotlib>=3.0.0->mlxtend->pyrarecomb) (4.40.0)\n",
      "Requirement already satisfied: kiwisolver>=1.0.1 in /data6/deepro/miniconda3/envs/pyrarecombtest/lib/python3.11/site-packages (from matplotlib>=3.0.0->mlxtend->pyrarecomb) (1.4.4)\n",
      "Requirement already satisfied: pillow>=6.2.0 in /data6/deepro/miniconda3/envs/pyrarecombtest/lib/python3.11/site-packages (from matplotlib>=3.0.0->mlxtend->pyrarecomb) (10.0.0)\n",
      "Requirement already satisfied: pyparsing<3.1,>=2.3.1 in /data6/deepro/miniconda3/envs/pyrarecombtest/lib/python3.11/site-packages (from matplotlib>=3.0.0->mlxtend->pyrarecomb) (3.0.9)\n",
      "Requirement already satisfied: six in /data6/deepro/miniconda3/envs/pyrarecombtest/lib/python3.11/site-packages (from patsy>=0.5.2->statsmodels->pyrarecomb) (1.16.0)\n",
      "Requirement already satisfied: threadpoolctl>=2.0.0 in /data6/deepro/miniconda3/envs/pyrarecombtest/lib/python3.11/site-packages (from scikit-learn>=1.0.2->mlxtend->pyrarecomb) (3.1.0)\n"
     ]
    }
   ],
   "source": [
    "!pip install pyrarecomb"
   ]
  },
  {
   "cell_type": "markdown",
   "metadata": {},
   "source": [
    "# Load test data"
   ]
  },
  {
   "cell_type": "code",
   "execution_count": 2,
   "metadata": {},
   "outputs": [],
   "source": [
    "import pandas as pd"
   ]
  },
  {
   "cell_type": "code",
   "execution_count": 3,
   "metadata": {},
   "outputs": [],
   "source": [
    "# load the input df\n",
    "boolean_input_df = pd.read_csv(\"../example_data/test_input.csv\")\n",
    "primary_inputs = pd.read_csv(\"../example_data/primary.txt\", header=None).iloc[:, 0].values\n",
    "primary_input_entities= primary_inputs\n",
    "\n",
    "# define all other params\n",
    "combo_length = 2\n",
    "min_indv_threshold = 5\n",
    "max_freq_threshold = 0.25\n",
    "input_format = 'Input_'\n",
    "output_format = 'Output_'\n",
    "pval_filter_threshold = 0.05\n",
    "adj_pval_type = 'BH'\n",
    "min_power_threshold = 0.7\n",
    "sample_names_ind = 'Y'\n",
    "\n"
   ]
  },
  {
   "cell_type": "markdown",
   "metadata": {},
   "source": [
    "# Run rarecomb"
   ]
  },
  {
   "cell_type": "code",
   "execution_count": 4,
   "metadata": {},
   "outputs": [],
   "source": [
    "from pyrarecomb.compare_enrichment_modifiers import compare_enrichment_modifiers"
   ]
  },
  {
   "cell_type": "code",
   "execution_count": 5,
   "metadata": {},
   "outputs": [
    {
     "name": "stdout",
     "output_type": "stream",
     "text": [
      "Number of cases remaining after filtration: 2488\n",
      "Number of controls remaining after filtration: 2512\n",
      "Number of items remaining after filtration: 334\n",
      "Number of secondary items remaining after filtration: 299\n",
      "Number of primary items remaining after filtration: 35\n",
      "Number of initial combinations identified for cases: 24\n",
      "Number of unique items in cases: 28\n",
      "Number of controls: 2512\n",
      "Number of combinations with support of at least 2 in controls: 92\n",
      "Number of combinations considered for multiple testing correction: 24\n",
      "Number of combinations that are significant after multiple testing correction: 4\n",
      "Number of combinations with support less than 2 in controls: 1\n",
      "Number of significant combinations that meet the power threshold is 1\n"
     ]
    },
    {
     "name": "stderr",
     "output_type": "stream",
     "text": [
      "/data6/deepro/miniconda3/envs/pyrarecombtest/lib/python3.11/site-packages/pyrarecomb/utils/helpers.py:49: SettingWithCopyWarning: \n",
      "A value is trying to be set on a copy of a slice from a DataFrame.\n",
      "Try using .loc[row_indexer,col_indexer] = value instead\n",
      "\n",
      "See the caveats in the documentation: https://pandas.pydata.org/pandas-docs/stable/user_guide/indexing.html#returning-a-view-versus-a-copy\n",
      "  cont_combos_w_zero_freq_df[\"Cont_Obs_Count_Combo\"] = cont_combos_w_zero_freq_df.uniq_items.apply(get_counts, args=(apriori_input_controls_df, ))\n",
      "/data6/deepro/miniconda3/envs/pyrarecombtest/lib/python3.11/site-packages/pyrarecomb/utils/helpers.py:50: SettingWithCopyWarning: \n",
      "A value is trying to be set on a copy of a slice from a DataFrame.\n",
      "Try using .loc[row_indexer,col_indexer] = value instead\n",
      "\n",
      "See the caveats in the documentation: https://pandas.pydata.org/pandas-docs/stable/user_guide/indexing.html#returning-a-view-versus-a-copy\n",
      "  cont_combos_w_zero_freq_df[\"Cont_Obs_Prob_Combo\"] = cont_combos_w_zero_freq_df['Cont_Obs_Count_Combo'] / number_of_controls\n",
      "/data6/deepro/miniconda3/envs/pyrarecombtest/lib/python3.11/site-packages/pyrarecomb/utils/helpers.py:52: SettingWithCopyWarning: \n",
      "A value is trying to be set on a copy of a slice from a DataFrame.\n",
      "Try using .loc[row_indexer,col_indexer] = value instead\n",
      "\n",
      "See the caveats in the documentation: https://pandas.pydata.org/pandas-docs/stable/user_guide/indexing.html#returning-a-view-versus-a-copy\n",
      "  cont_combos_w_zero_freq_df['Cont_pvalue_more'] = cont_combos_w_zero_freq_df.apply(lambda row: binomtest(int(row['Cont_Obs_Count_Combo']), number_of_controls, row['Cont_Exp_Prob_Combo'], alternative='greater').pvalue, axis=1)\n",
      "/data6/deepro/miniconda3/envs/pyrarecombtest/lib/python3.11/site-packages/pyrarecomb/utils/helpers.py:61: SettingWithCopyWarning: \n",
      "A value is trying to be set on a copy of a slice from a DataFrame.\n",
      "Try using .loc[row_indexer,col_indexer] = value instead\n",
      "\n",
      "See the caveats in the documentation: https://pandas.pydata.org/pandas-docs/stable/user_guide/indexing.html#returning-a-view-versus-a-copy\n",
      "  all_sig_case_cont_freqitems_df['Case_Exp_Count_Combo'] = round((all_sig_case_cont_freqitems_df['Case_Exp_Prob_Combo'] * number_of_cases), 2)\n",
      "/data6/deepro/miniconda3/envs/pyrarecombtest/lib/python3.11/site-packages/pyrarecomb/utils/helpers.py:62: SettingWithCopyWarning: \n",
      "A value is trying to be set on a copy of a slice from a DataFrame.\n",
      "Try using .loc[row_indexer,col_indexer] = value instead\n",
      "\n",
      "See the caveats in the documentation: https://pandas.pydata.org/pandas-docs/stable/user_guide/indexing.html#returning-a-view-versus-a-copy\n",
      "  all_sig_case_cont_freqitems_df['Cont_Exp_Count_Combo'] = round((all_sig_case_cont_freqitems_df['Cont_Exp_Prob_Combo'] * number_of_controls), 2)\n",
      "/data6/deepro/miniconda3/envs/pyrarecombtest/lib/python3.11/site-packages/pyrarecomb/utils/helpers.py:63: SettingWithCopyWarning: \n",
      "A value is trying to be set on a copy of a slice from a DataFrame.\n",
      "Try using .loc[row_indexer,col_indexer] = value instead\n",
      "\n",
      "See the caveats in the documentation: https://pandas.pydata.org/pandas-docs/stable/user_guide/indexing.html#returning-a-view-versus-a-copy\n",
      "  all_sig_case_cont_freqitems_df['Effect_Size'] = all_sig_case_cont_freqitems_df.apply(\n",
      "/data6/deepro/miniconda3/envs/pyrarecombtest/lib/python3.11/site-packages/pyrarecomb/utils/helpers.py:65: SettingWithCopyWarning: \n",
      "A value is trying to be set on a copy of a slice from a DataFrame.\n",
      "Try using .loc[row_indexer,col_indexer] = value instead\n",
      "\n",
      "See the caveats in the documentation: https://pandas.pydata.org/pandas-docs/stable/user_guide/indexing.html#returning-a-view-versus-a-copy\n",
      "  all_sig_case_cont_freqitems_df['Power_One_Pct'] = round(all_sig_case_cont_freqitems_df.apply(\n",
      "/data6/deepro/miniconda3/envs/pyrarecombtest/lib/python3.11/site-packages/pyrarecomb/utils/helpers.py:67: SettingWithCopyWarning: \n",
      "A value is trying to be set on a copy of a slice from a DataFrame.\n",
      "Try using .loc[row_indexer,col_indexer] = value instead\n",
      "\n",
      "See the caveats in the documentation: https://pandas.pydata.org/pandas-docs/stable/user_guide/indexing.html#returning-a-view-versus-a-copy\n",
      "  all_sig_case_cont_freqitems_df['Power_Five_Pct'] = round(all_sig_case_cont_freqitems_df.apply(\n"
     ]
    }
   ],
   "source": [
    "out_df = compare_enrichment_modifiers(\n",
    "    boolean_input_df, combo_length, input_format, output_format, min_indv_threshold, max_freq_threshold,\n",
    "    primary_input_entities, pval_filter_threshold, adj_pval_type, min_power_threshold, sample_names_ind\n",
    "    )"
   ]
  },
  {
   "cell_type": "code",
   "execution_count": 6,
   "metadata": {},
   "outputs": [
    {
     "data": {
      "text/html": [
       "<div>\n",
       "<style scoped>\n",
       "    .dataframe tbody tr th:only-of-type {\n",
       "        vertical-align: middle;\n",
       "    }\n",
       "\n",
       "    .dataframe tbody tr th {\n",
       "        vertical-align: top;\n",
       "    }\n",
       "\n",
       "    .dataframe thead th {\n",
       "        text-align: right;\n",
       "    }\n",
       "</style>\n",
       "<table border=\"1\" class=\"dataframe\">\n",
       "  <thead>\n",
       "    <tr style=\"text-align: right;\">\n",
       "      <th></th>\n",
       "      <th>Item_1</th>\n",
       "      <th>Item_2</th>\n",
       "      <th>uniq_items</th>\n",
       "      <th>Case_Obs_Count_Combo</th>\n",
       "      <th>Case_Obs_Count_I1</th>\n",
       "      <th>Case_Obs_Count_I2</th>\n",
       "      <th>Case_Exp_Prob_Combo</th>\n",
       "      <th>Case_Obs_Prob_Combo</th>\n",
       "      <th>Case_pvalue_more</th>\n",
       "      <th>Cont_Obs_Count_Combo</th>\n",
       "      <th>...</th>\n",
       "      <th>Case_Adj_Pval_bonf</th>\n",
       "      <th>Case_Adj_Pval_BH</th>\n",
       "      <th>Num_tests</th>\n",
       "      <th>Case_Exp_Count_Combo</th>\n",
       "      <th>Cont_Exp_Count_Combo</th>\n",
       "      <th>Effect_Size</th>\n",
       "      <th>Power_One_Pct</th>\n",
       "      <th>Power_Five_Pct</th>\n",
       "      <th>Case_Samples</th>\n",
       "      <th>Control_Samples</th>\n",
       "    </tr>\n",
       "  </thead>\n",
       "  <tbody>\n",
       "    <tr>\n",
       "      <th>5</th>\n",
       "      <td>Input_55</td>\n",
       "      <td>Input_353</td>\n",
       "      <td>Input_353|Input_55</td>\n",
       "      <td>5.0</td>\n",
       "      <td>19</td>\n",
       "      <td>14</td>\n",
       "      <td>0.000043</td>\n",
       "      <td>0.00201</td>\n",
       "      <td>1.060869e-07</td>\n",
       "      <td>0.0</td>\n",
       "      <td>...</td>\n",
       "      <td>0.0</td>\n",
       "      <td>0.0</td>\n",
       "      <td>24</td>\n",
       "      <td>0.11</td>\n",
       "      <td>0.07</td>\n",
       "      <td>0.089688</td>\n",
       "      <td>0.724</td>\n",
       "      <td>0.887</td>\n",
       "      <td>Sample_1425|Sample_2118|Sample_2284|Sample_403...</td>\n",
       "      <td></td>\n",
       "    </tr>\n",
       "  </tbody>\n",
       "</table>\n",
       "<p>1 rows × 25 columns</p>\n",
       "</div>"
      ],
      "text/plain": [
       "     Item_1     Item_2          uniq_items  Case_Obs_Count_Combo  \\\n",
       "5  Input_55  Input_353  Input_353|Input_55                   5.0   \n",
       "\n",
       "   Case_Obs_Count_I1  Case_Obs_Count_I2  Case_Exp_Prob_Combo  \\\n",
       "5                 19                 14             0.000043   \n",
       "\n",
       "   Case_Obs_Prob_Combo  Case_pvalue_more  Cont_Obs_Count_Combo  ...  \\\n",
       "5              0.00201      1.060869e-07                   0.0  ...   \n",
       "\n",
       "   Case_Adj_Pval_bonf  Case_Adj_Pval_BH  Num_tests  Case_Exp_Count_Combo  \\\n",
       "5                 0.0               0.0         24                  0.11   \n",
       "\n",
       "   Cont_Exp_Count_Combo  Effect_Size  Power_One_Pct  Power_Five_Pct  \\\n",
       "5                  0.07     0.089688          0.724           0.887   \n",
       "\n",
       "                                        Case_Samples  Control_Samples  \n",
       "5  Sample_1425|Sample_2118|Sample_2284|Sample_403...                   \n",
       "\n",
       "[1 rows x 25 columns]"
      ]
     },
     "execution_count": 6,
     "metadata": {},
     "output_type": "execute_result"
    }
   ],
   "source": [
    "out_df"
   ]
  },
  {
   "cell_type": "code",
   "execution_count": null,
   "metadata": {},
   "outputs": [],
   "source": []
  }
 ],
 "metadata": {
  "kernelspec": {
   "display_name": "Python 3",
   "language": "python",
   "name": "python3"
  },
  "language_info": {
   "codemirror_mode": {
    "name": "ipython",
    "version": 3
   },
   "file_extension": ".py",
   "mimetype": "text/x-python",
   "name": "python",
   "nbconvert_exporter": "python",
   "pygments_lexer": "ipython3",
   "version": "3.11.4"
  },
  "orig_nbformat": 4
 },
 "nbformat": 4,
 "nbformat_minor": 2
}
